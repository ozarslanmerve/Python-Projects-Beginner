{
 "cells": [
  {
   "cell_type": "markdown",
   "id": "e9efcbe9",
   "metadata": {},
   "source": [
    "Büyük Harf - Küçük Harf"
   ]
  },
  {
   "cell_type": "code",
   "execution_count": 2,
   "id": "859d01aa",
   "metadata": {},
   "outputs": [
    {
     "name": "stdout",
     "output_type": "stream",
     "text": [
      "SELAM\n"
     ]
    }
   ],
   "source": [
    "metin = \"seLam\"\n",
    "print(metin.upper())"
   ]
  },
  {
   "cell_type": "code",
   "execution_count": 6,
   "id": "204483c1",
   "metadata": {},
   "outputs": [
    {
     "name": "stdout",
     "output_type": "stream",
     "text": [
      "Python\n"
     ]
    }
   ],
   "source": [
    "## replace()\n",
    "metin = \"python\"\n",
    "metin= metin.replace(\"p\", \"P\") \n",
    "print(metin)\n"
   ]
  },
  {
   "cell_type": "code",
   "execution_count": 1,
   "id": "08470507",
   "metadata": {},
   "outputs": [
    {
     "name": "stdout",
     "output_type": "stream",
     "text": [
      "Mrhb Dny\n"
     ]
    }
   ],
   "source": [
    "metin = \"Merhaba Dünya\"\n",
    "sesliler= \"aeü\"\n",
    "for harf in sesliler:\n",
    "    metin = metin.replace(harf,\"\")\n",
    "\n",
    "print(metin)"
   ]
  }
 ],
 "metadata": {
  "kernelspec": {
   "display_name": "Python 3",
   "language": "python",
   "name": "python3"
  },
  "language_info": {
   "codemirror_mode": {
    "name": "ipython",
    "version": 3
   },
   "file_extension": ".py",
   "mimetype": "text/x-python",
   "name": "python",
   "nbconvert_exporter": "python",
   "pygments_lexer": "ipython3",
   "version": "3.13.3"
  }
 },
 "nbformat": 4,
 "nbformat_minor": 5
}
