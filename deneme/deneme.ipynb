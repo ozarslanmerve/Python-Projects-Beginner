{
 "cells": [
  {
   "cell_type": "markdown",
   "id": "e9efcbe9",
   "metadata": {},
   "source": [
    "Büyük Harf - Küçük Harf"
   ]
  },
  {
   "cell_type": "code",
   "execution_count": 4,
   "id": "859d01aa",
   "metadata": {},
   "outputs": [
    {
     "name": "stdout",
     "output_type": "stream",
     "text": [
      "SELAM\n"
     ]
    }
   ],
   "source": [
    "metin = \"seLam\"\n",
    "print(metin.upper())"
   ]
  },
  {
   "cell_type": "markdown",
   "id": "6d342a4d",
   "metadata": {},
   "source": [
    "Replace Alıştırmaları"
   ]
  },
  {
   "cell_type": "code",
   "execution_count": 5,
   "id": "204483c1",
   "metadata": {},
   "outputs": [
    {
     "name": "stdout",
     "output_type": "stream",
     "text": [
      "Python\n"
     ]
    }
   ],
   "source": [
    "## replace()\n",
    "metin = \"python\"\n",
    "metin= metin.replace(\"p\", \"P\") \n",
    "print(metin)\n"
   ]
  },
  {
   "cell_type": "code",
   "execution_count": 6,
   "id": "08470507",
   "metadata": {},
   "outputs": [
    {
     "name": "stdout",
     "output_type": "stream",
     "text": [
      "Mrhb Dny\n"
     ]
    }
   ],
   "source": [
    "metin = \"Merhaba Dünya\"\n",
    "sesliler= \"aeü\"\n",
    "for harf in sesliler:\n",
    "    metin = metin.replace(harf,\"\")\n",
    "\n",
    "print(metin)"
   ]
  },
  {
   "cell_type": "markdown",
   "id": "ea2984a6",
   "metadata": {},
   "source": [
    "Kontrol Fonksiyonları"
   ]
  },
  {
   "cell_type": "code",
   "execution_count": null,
   "id": "7a1d22a9",
   "metadata": {},
   "outputs": [
    {
     "name": "stdout",
     "output_type": "stream",
     "text": [
      "Python Programlama\n",
      "isdecimal() :  False\n",
      "False\n",
      "False\n",
      "False\n",
      "False\n",
      "True\n"
     ]
    }
   ],
   "source": [
    "metin = \"Python Programlama\"\n",
    "print(metin)\n",
    "print(\"isdecimal() : \", metin.isdecimal())\n",
    "print(metin.isalpha())\n",
    "print(metin.isalnum()) # hem harf hem rakam varsa True döner\n",
    "print(metin.islower()) # küçük harf mi?\n",
    "print(metin.isupper()) # büyük harf mi?\n",
    "print(metin.istitle()) # baş harf büyük mü?"
   ]
  },
  {
   "cell_type": "markdown",
   "id": "6436bf86",
   "metadata": {},
   "source": [
    "Diziler - Listeler\n"
   ]
  },
  {
   "cell_type": "code",
   "execution_count": 13,
   "id": "f132af16",
   "metadata": {},
   "outputs": [
    {
     "name": "stdout",
     "output_type": "stream",
     "text": [
      "[1, 2, 3, 4, 5]\n"
     ]
    }
   ],
   "source": [
    "dizi = [1,2, 3, 4, 5]    \n",
    "print(dizi)"
   ]
  },
  {
   "cell_type": "code",
   "execution_count": null,
   "id": "e0e51b2b",
   "metadata": {},
   "outputs": [
    {
     "name": "stdout",
     "output_type": "stream",
     "text": [
      "1\n",
      "2\n",
      "3\n",
      "4\n",
      "5\n"
     ]
    }
   ],
   "source": [
    "print(dizi[0]) # 1. eleman\n",
    "print(dizi[1]) # 2. eleman\n",
    "print(dizi[2]) # 3. eleman\n",
    "print(dizi[3]) # 4. eleman\n",
    "print(dizi[4]) # 5. eleman\n"
   ]
  },
  {
   "cell_type": "code",
   "execution_count": 17,
   "id": "bf32ceea",
   "metadata": {},
   "outputs": [
    {
     "name": "stdout",
     "output_type": "stream",
     "text": [
      "5\n",
      "4\n"
     ]
    }
   ],
   "source": [
    "print(dizi[-1]) # son eleman\n",
    "print(dizi[-2]) # sondan 2. eleman"
   ]
  }
 ],
 "metadata": {
  "kernelspec": {
   "display_name": "Python 3",
   "language": "python",
   "name": "python3"
  },
  "language_info": {
   "codemirror_mode": {
    "name": "ipython",
    "version": 3
   },
   "file_extension": ".py",
   "mimetype": "text/x-python",
   "name": "python",
   "nbconvert_exporter": "python",
   "pygments_lexer": "ipython3",
   "version": "3.13.3"
  }
 },
 "nbformat": 4,
 "nbformat_minor": 5
}
