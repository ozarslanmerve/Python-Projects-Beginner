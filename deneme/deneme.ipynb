{
 "cells": [
  {
   "cell_type": "markdown",
   "id": "e9efcbe9",
   "metadata": {},
   "source": [
    "# Büyük Harf - Küçük Harf"
   ]
  },
  {
   "cell_type": "code",
   "execution_count": 4,
   "id": "859d01aa",
   "metadata": {},
   "outputs": [
    {
     "name": "stdout",
     "output_type": "stream",
     "text": [
      "SELAM\n"
     ]
    }
   ],
   "source": [
    "metin = \"seLam\"\n",
    "print(metin.upper())"
   ]
  },
  {
   "cell_type": "markdown",
   "id": "6d342a4d",
   "metadata": {},
   "source": [
    "# Replace Alıştırmaları"
   ]
  },
  {
   "cell_type": "code",
   "execution_count": 5,
   "id": "204483c1",
   "metadata": {},
   "outputs": [
    {
     "name": "stdout",
     "output_type": "stream",
     "text": [
      "Python\n"
     ]
    }
   ],
   "source": [
    "## replace()\n",
    "metin = \"python\"\n",
    "metin= metin.replace(\"p\", \"P\") \n",
    "print(metin)\n"
   ]
  },
  {
   "cell_type": "code",
   "execution_count": 6,
   "id": "08470507",
   "metadata": {},
   "outputs": [
    {
     "name": "stdout",
     "output_type": "stream",
     "text": [
      "Mrhb Dny\n"
     ]
    }
   ],
   "source": [
    "metin = \"Merhaba Dünya\"\n",
    "sesliler= \"aeü\"\n",
    "for harf in sesliler:\n",
    "    metin = metin.replace(harf,\"\")\n",
    "\n",
    "print(metin)"
   ]
  },
  {
   "cell_type": "markdown",
   "id": "ea2984a6",
   "metadata": {},
   "source": [
    "# Kontrol Fonksiyonları"
   ]
  },
  {
   "cell_type": "code",
   "execution_count": null,
   "id": "7a1d22a9",
   "metadata": {},
   "outputs": [
    {
     "name": "stdout",
     "output_type": "stream",
     "text": [
      "Python Programlama\n",
      "isdecimal() :  False\n",
      "False\n",
      "False\n",
      "False\n",
      "False\n",
      "True\n"
     ]
    }
   ],
   "source": [
    "metin = \"Python Programlama\"\n",
    "print(metin)\n",
    "print(\"isdecimal() : \", metin.isdecimal())\n",
    "print(metin.isalpha())\n",
    "print(metin.isalnum()) # hem harf hem rakam varsa True döner\n",
    "print(metin.islower()) # küçük harf mi?\n",
    "print(metin.isupper()) # büyük harf mi?\n",
    "print(metin.istitle()) # baş harf büyük mü?"
   ]
  },
  {
   "cell_type": "markdown",
   "id": "6436bf86",
   "metadata": {},
   "source": [
    "# Diziler - Listeler\n"
   ]
  },
  {
   "cell_type": "code",
   "execution_count": 13,
   "id": "f132af16",
   "metadata": {},
   "outputs": [
    {
     "name": "stdout",
     "output_type": "stream",
     "text": [
      "[1, 2, 3, 4, 5]\n"
     ]
    }
   ],
   "source": [
    "dizi = [1,2, 3, 4, 5]    \n",
    "print(dizi)"
   ]
  },
  {
   "cell_type": "code",
   "execution_count": null,
   "id": "e0e51b2b",
   "metadata": {},
   "outputs": [
    {
     "name": "stdout",
     "output_type": "stream",
     "text": [
      "1\n",
      "2\n",
      "3\n",
      "4\n",
      "5\n"
     ]
    }
   ],
   "source": [
    "print(dizi[0]) # 1. eleman\n",
    "print(dizi[1]) # 2. eleman\n",
    "print(dizi[2]) # 3. eleman\n",
    "print(dizi[3]) # 4. eleman\n",
    "print(dizi[4]) # 5. eleman\n"
   ]
  },
  {
   "cell_type": "code",
   "execution_count": 17,
   "id": "bf32ceea",
   "metadata": {},
   "outputs": [
    {
     "name": "stdout",
     "output_type": "stream",
     "text": [
      "5\n",
      "4\n"
     ]
    }
   ],
   "source": [
    "print(dizi[-1]) # son eleman\n",
    "print(dizi[-2]) # sondan 2. eleman"
   ]
  },
  {
   "cell_type": "markdown",
   "id": "6b97222f",
   "metadata": {},
   "source": [
    "# Slicing - dilimleme : Alt sınır dahil üst sınır dahil değildir. "
   ]
  },
  {
   "cell_type": "code",
   "execution_count": 1,
   "id": "80bcefa9",
   "metadata": {},
   "outputs": [
    {
     "data": {
      "text/plain": [
       "['b', 'c']"
      ]
     },
     "execution_count": 1,
     "metadata": {},
     "output_type": "execute_result"
    }
   ],
   "source": [
    "dizi = [\"a\",\"b\", \"c\", \"d\", \"e\"]    \n",
    "dizi[1:3]"
   ]
  },
  {
   "cell_type": "code",
   "execution_count": null,
   "id": "f47a1f21",
   "metadata": {},
   "outputs": [
    {
     "data": {
      "text/plain": [
       "['c', 'd', 'e']"
      ]
     },
     "execution_count": 2,
     "metadata": {},
     "output_type": "execute_result"
    }
   ],
   "source": [
    "dizi[2:] # 2 den sonraki elemanlar"
   ]
  },
  {
   "cell_type": "code",
   "execution_count": 3,
   "id": "c2e0dda7",
   "metadata": {},
   "outputs": [
    {
     "data": {
      "text/plain": [
       "['c', 'd']"
      ]
     },
     "execution_count": 3,
     "metadata": {},
     "output_type": "execute_result"
    }
   ],
   "source": [
    "dizi[2:4] # 3. ve 4. eleman"
   ]
  },
  {
   "cell_type": "markdown",
   "id": "37ba690b",
   "metadata": {},
   "source": [
    "# Set - Kümeler\n"
   ]
  },
  {
   "cell_type": "code",
   "execution_count": 6,
   "id": "259197c1",
   "metadata": {},
   "outputs": [
    {
     "data": {
      "text/plain": [
       "True"
      ]
     },
     "execution_count": 6,
     "metadata": {},
     "output_type": "execute_result"
    }
   ],
   "source": [
    "kume1 = {1,2,3,4}\n",
    "kume2 = {2,3,1,4,4}\n",
    "\n",
    "kume1 == kume2 # True döner çünkü küme elemanlarının sırası önemli değil"
   ]
  },
  {
   "cell_type": "code",
   "execution_count": null,
   "id": "1401497a",
   "metadata": {},
   "outputs": [
    {
     "data": {
      "text/plain": [
       "4"
      ]
     },
     "execution_count": 7,
     "metadata": {},
     "output_type": "execute_result"
    }
   ],
   "source": [
    "kume2= {2,3,2,3,2,1,4,4,4,1,1,2,3,}\n",
    "len(kume2) # 4 döner çünkü kümede tekrar eden elemanlar yoktur."
   ]
  },
  {
   "cell_type": "code",
   "execution_count": null,
   "id": "b8c2d9b8",
   "metadata": {},
   "outputs": [
    {
     "name": "stdout",
     "output_type": "stream",
     "text": [
      "{1, 2, 3, 4, 5, 'a'}\n"
     ]
    }
   ],
   "source": [
    "kume2.add(\"a\") # kümenin sonuna eleman ekler\n",
    "print(kume2)"
   ]
  },
  {
   "cell_type": "code",
   "execution_count": 17,
   "id": "9541d2eb",
   "metadata": {},
   "outputs": [
    {
     "data": {
      "text/plain": [
       "False"
      ]
     },
     "execution_count": 17,
     "metadata": {},
     "output_type": "execute_result"
    }
   ],
   "source": [
    "dizi= [1,2,3,4]\n",
    "kume= {1,2,3,4}\n",
    "kume == dizi\n"
   ]
  },
  {
   "cell_type": "code",
   "execution_count": 16,
   "id": "033a8337",
   "metadata": {},
   "outputs": [
    {
     "name": "stdout",
     "output_type": "stream",
     "text": [
      "[1, 2, 3, 4, 5, 5, 5]\n",
      "{1, 2, 3, 4, 5}\n"
     ]
    }
   ],
   "source": [
    "dizi.append(5) # diziye eleman ekler\n",
    "kume.add(5) # kümeye eleman ekler\n",
    "print(dizi)\n",
    "print(kume)"
   ]
  },
  {
   "cell_type": "code",
   "execution_count": 19,
   "id": "82ba2be7",
   "metadata": {},
   "outputs": [
    {
     "name": "stdout",
     "output_type": "stream",
     "text": [
      "{3, 4}\n",
      "{1, 2, 3, 4, 5, 6}\n",
      "{1, 2}\n"
     ]
    }
   ],
   "source": [
    "kume1= {1,2,3,4}    \n",
    "kume2= {3,4,5,6}\n",
    "print(kume1.intersection(kume2)) # kesişim kümesi döner\n",
    "print(kume1.union(kume2)) # birleşim kümesi döner\n",
    "print(kume1.difference(kume2)) # fark kümesi döner"
   ]
  },
  {
   "cell_type": "markdown",
   "id": "99b08513",
   "metadata": {},
   "source": [
    "## Tip Dönüşümleri"
   ]
  },
  {
   "cell_type": "code",
   "execution_count": 21,
   "id": "eed7b485",
   "metadata": {},
   "outputs": [],
   "source": [
    "liste = [1,2,3,4,5] # Listeler köşeli parantezle\n",
    "demet = (1,2,3,4,5) # Tuple normal parantezle\n",
    "kume = {1,2,3,4,5} # Küme süslü parantezle\n"
   ]
  },
  {
   "cell_type": "code",
   "execution_count": 23,
   "id": "a55009b1",
   "metadata": {},
   "outputs": [],
   "source": [
    "d1 = tuple(liste)\n",
    "d2 = set(demet)\n",
    "d3 = list(kume)"
   ]
  },
  {
   "cell_type": "code",
   "execution_count": 25,
   "id": "b52b2f45",
   "metadata": {},
   "outputs": [
    {
     "ename": "TypeError",
     "evalue": "'int' object is not iterable",
     "output_type": "error",
     "traceback": [
      "\u001b[31m---------------------------------------------------------------------------\u001b[39m",
      "\u001b[31mTypeError\u001b[39m                                 Traceback (most recent call last)",
      "\u001b[36mCell\u001b[39m\u001b[36m \u001b[39m\u001b[32mIn[25]\u001b[39m\u001b[32m, line 3\u001b[39m\n\u001b[32m      1\u001b[39m d4 = \u001b[38;5;28mlist\u001b[39m(\u001b[33m\"\u001b[39m\u001b[33mPython\u001b[39m\u001b[33m\"\u001b[39m) \u001b[38;5;66;03m# stringi karakter dizisi şeklinde algılar\u001b[39;00m\n\u001b[32m----> \u001b[39m\u001b[32m3\u001b[39m d5= \u001b[38;5;28;43mset\u001b[39;49m\u001b[43m(\u001b[49m\u001b[32;43m5\u001b[39;49m\u001b[43m)\u001b[49m \u001b[38;5;66;03m# hata verir çünkü set() içine iterable bir nesne alır\u001b[39;00m\n",
      "\u001b[31mTypeError\u001b[39m: 'int' object is not iterable"
     ]
    }
   ],
   "source": [
    "d4 = list(\"Python\") # stringi karakter dizisi şeklinde algılar\n",
    "\n",
    "d5= set(5) # hata verir çünkü set() içine iterable bir nesne alır"
   ]
  },
  {
   "cell_type": "markdown",
   "id": "40ab794d",
   "metadata": {},
   "source": [
    "## Iterable\n",
    "\n",
    "Genel anlamda içinde seçilebilir elemanlar bulunan tüm nesneler iterable olarak adlandırılır. \n"
   ]
  },
  {
   "cell_type": "code",
   "execution_count": 27,
   "id": "4bf30ac6",
   "metadata": {},
   "outputs": [
    {
     "data": {
      "text/plain": [
       "5"
      ]
     },
     "execution_count": 27,
     "metadata": {},
     "output_type": "execute_result"
    }
   ],
   "source": [
    "aralık = range(10) # 0-9 aralığını döner\n",
    "type(aralık) # range döner\n",
    "aralık[5]\n"
   ]
  },
  {
   "cell_type": "markdown",
   "id": "b06c61be",
   "metadata": {},
   "source": [
    "## Dict - Sözlük \n",
    "Indeks olarak önceden tanımlanmış anahtar değerleri kullanan listeler gibidir. "
   ]
  },
  {
   "cell_type": "code",
   "execution_count": null,
   "id": "730b0206",
   "metadata": {},
   "outputs": [],
   "source": [
    "sozluk = {\"birinci\": 11, \"ikinci\" : 22, \"üçüncü\": 33} # anahtar:değer şeklinde tanımlanır"
   ]
  },
  {
   "cell_type": "code",
   "execution_count": 43,
   "id": "af73c642",
   "metadata": {},
   "outputs": [
    {
     "data": {
      "text/plain": [
       "11"
      ]
     },
     "execution_count": 43,
     "metadata": {},
     "output_type": "execute_result"
    }
   ],
   "source": [
    "sozluk[\"birinci\"]"
   ]
  },
  {
   "cell_type": "code",
   "execution_count": null,
   "id": "e7f30fdf",
   "metadata": {},
   "outputs": [
    {
     "data": {
      "text/plain": [
       "'yazmak'"
      ]
     },
     "execution_count": 31,
     "metadata": {},
     "output_type": "execute_result"
    }
   ],
   "source": [
    "sozluk = {\n",
    "    \"write\" : \"yazmak\",\n",
    "    \"read\" : \"okumak\",\n",
    "    \"attribute\" : \"özellik\",\n",
    "}\n",
    "sozluk[\"write\"]\n"
   ]
  },
  {
   "cell_type": "code",
   "execution_count": 44,
   "id": "9e117d6e",
   "metadata": {},
   "outputs": [
    {
     "data": {
      "text/plain": [
       "dict_values([11, 22, 33])"
      ]
     },
     "execution_count": 44,
     "metadata": {},
     "output_type": "execute_result"
    }
   ],
   "source": [
    "sozluk.values() # değerleri döner,\n"
   ]
  },
  {
   "cell_type": "code",
   "execution_count": 45,
   "id": "fe6ffc62",
   "metadata": {},
   "outputs": [
    {
     "data": {
      "text/plain": [
       "dict_keys(['birinci', 'ikinci', 'üçüncü'])"
      ]
     },
     "execution_count": 45,
     "metadata": {},
     "output_type": "execute_result"
    }
   ],
   "source": [
    "sozluk.keys() # anahtarları döner"
   ]
  },
  {
   "cell_type": "code",
   "execution_count": null,
   "id": "d5c731e9",
   "metadata": {},
   "outputs": [
    {
     "data": {
      "text/plain": [
       "22"
      ]
     },
     "execution_count": 46,
     "metadata": {},
     "output_type": "execute_result"
    }
   ],
   "source": [
    "list(sozluk.values()) [1] # değerleri listeye çevirir"
   ]
  },
  {
   "cell_type": "code",
   "execution_count": null,
   "id": "d821b489",
   "metadata": {},
   "outputs": [
    {
     "data": {
      "text/plain": [
       "dict_items([('birinci', 11), ('ikinci', 22), ('üçüncü', 33)])"
      ]
     },
     "execution_count": 47,
     "metadata": {},
     "output_type": "execute_result"
    }
   ],
   "source": [
    "sozluk.items() # döngülerde genelde bu şekilde kullanılır"
   ]
  },
  {
   "cell_type": "code",
   "execution_count": 12,
   "id": "dd0bbe10",
   "metadata": {},
   "outputs": [
    {
     "name": "stdout",
     "output_type": "stream",
     "text": [
      "['Merve', 'Ozarslan', 24, 'mrv@gmail.com']\n",
      "['isim', 'soyisim', 'yasi', 'email']\n"
     ]
    }
   ],
   "source": [
    "kullanici = {\n",
    "    \"isim\" : \"Merve\",\n",
    "    \"soyisim\" : \"Ozarslan\",\n",
    "    \"yasi\" : 24,\n",
    "    \"email\" : \"mrv@gmail.com\"\n",
    "}\n",
    "kullanici_degerleri = list(kullanici.values())\n",
    "kullanici_anahtarlari = list(kullanici.keys())\n",
    "print(kullanici_degerleri) # değerleri listeye çevirir\n",
    "print(kullanici_anahtarlari) # anahtarları listeye çevirir\n"
   ]
  },
  {
   "cell_type": "markdown",
   "id": "1a1e950e",
   "metadata": {},
   "source": [
    "## input\n",
    "Kullanıcın str şeklinde değer girişi alır"
   ]
  },
  {
   "cell_type": "code",
   "execution_count": 11,
   "id": "c18a7b02",
   "metadata": {},
   "outputs": [
    {
     "name": "stdout",
     "output_type": "stream",
     "text": [
      "Kullanıcının yaptığı giriş:  asd\n"
     ]
    }
   ],
   "source": [
    "kullanici_girisi = input(\"Lütfen bir değer giriniz: \")\n",
    "print(\"Kullanıcının yaptığı giriş: \", kullanici_girisi)\n"
   ]
  },
  {
   "cell_type": "code",
   "execution_count": 3,
   "id": "45857039",
   "metadata": {},
   "outputs": [
    {
     "name": "stdout",
     "output_type": "stream",
     "text": [
      "Kullanıcı bilgileri: {'isim': 'Merve', 'soyisim': 'Özarslan', 'yasi': '23', 'email': 'mrv@gmail.com'}\n"
     ]
    }
   ],
   "source": [
    "kullanici={}\n",
    "\n",
    "kullanici[\"isim\"] = input(\"Lütfen isminizi giriniz: \")\n",
    "kullanici[\"soyisim\"] = input(\"Lütfen soyisminizi giriniz: \")\n",
    "kullanici[\"yasi\"] = input(\"Lütfen yaşınızı giriniz: \")\n",
    "kullanici[\"email\"] = input(\"Lütfen email adresinizi giriniz: \")\n",
    "\n",
    "print(\"Kullanıcı bilgileri:\", kullanici)"
   ]
  },
  {
   "cell_type": "code",
   "execution_count": null,
   "id": "a04c7669",
   "metadata": {},
   "outputs": [],
   "source": []
  }
 ],
 "metadata": {
  "kernelspec": {
   "display_name": "Python 3",
   "language": "python",
   "name": "python3"
  },
  "language_info": {
   "codemirror_mode": {
    "name": "ipython",
    "version": 3
   },
   "file_extension": ".py",
   "mimetype": "text/x-python",
   "name": "python",
   "nbconvert_exporter": "python",
   "pygments_lexer": "ipython3",
   "version": "3.13.3"
  }
 },
 "nbformat": 4,
 "nbformat_minor": 5
}
